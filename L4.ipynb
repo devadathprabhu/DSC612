{
  "nbformat": 4,
  "nbformat_minor": 0,
  "metadata": {
    "colab": {
      "name": "L4.ipynb",
      "provenance": [],
      "authorship_tag": "ABX9TyOVoYJIy9S8gJpeom71VAld",
      "include_colab_link": true
    },
    "kernelspec": {
      "name": "python3",
      "display_name": "Python 3"
    },
    "language_info": {
      "name": "python"
    }
  },
  "cells": [
    {
      "cell_type": "markdown",
      "metadata": {
        "id": "view-in-github",
        "colab_type": "text"
      },
      "source": [
        "<a href=\"https://colab.research.google.com/github/devadathprabhu/DSC612/blob/main/L4.ipynb\" target=\"_parent\"><img src=\"https://colab.research.google.com/assets/colab-badge.svg\" alt=\"Open In Colab\"/></a>"
      ]
    },
    {
      "cell_type": "markdown",
      "metadata": {
        "id": "_Cs1wMpL1evU"
      },
      "source": [
        "1. Download MNIST dataset\n",
        "2. Utilize 3000 images for training, 1000 images for testing and 10% of\n",
        "training images for validation.\n",
        "2. Extract the features (Convert the images into list with raw intensities\n",
        "of the images).\n",
        "3. Apply KNN algorithm and find out the optimal K-Value that yields the\n",
        "maximum accuracy.\n",
        "4. Submit the python files and snapshot of results."
      ]
    },
    {
      "cell_type": "code",
      "metadata": {
        "colab": {
          "base_uri": "https://localhost:8080/",
          "height": 0
        },
        "id": "0rTV2fNY1YoE",
        "outputId": "8eb1e986-5f71-48a6-b353-5e2c21a329da"
      },
      "source": [
        "from sklearn.neighbors import KNeighborsClassifier\n",
        "import numpy as np\n",
        "from sklearn.model_selection import train_test_split\n",
        "from mlxtend.data import loadlocal_mnist\n",
        "\n",
        "all_data, all_label = loadlocal_mnist(\n",
        "            images_path='train-images-idx3-ubyte', \n",
        "            labels_path='train-labels-idx1-ubyte')\n",
        "\n",
        "data = np.array(all_data[:4000,:])\n",
        "labels = np.array(all_label[:4000])\n",
        "# Total 4000 data points, 3000 for training, 1000 for testing\n",
        "# 10% of training images i.e 300 images is used for validation\n",
        "\n",
        "(trainData, testData, trainLabels, testLabels) = train_test_split(\n",
        "    data, labels, test_size=1000)\n",
        "(trainData, valData, trainLabels, valLabels) = train_test_split(\n",
        "    trainData, trainLabels, test_size=0.1)\n",
        "print(\"training data points: {}\".format(len(trainLabels)))\n",
        "print(\"validation data points: {}\".format(len(valLabels)))\n",
        "print(\"testing data points: {}\".format(len(testLabels)))\n",
        "\n",
        "kVals = range(1, 50, 2)\n",
        "accuracies = []\n",
        "for k in range(1, 50, 2):\n",
        "  model = KNeighborsClassifier(n_neighbors=k)\n",
        "  model.fit(trainData, trainLabels)\n",
        "  score = model.score(valData, valLabels)\n",
        "  print(\"k=%d, accuracy=%.2f%%\" % (k, score * 100))\n",
        "  accuracies.append(score)\n",
        "\n",
        "i = int(np.argmax(accuracies))\n",
        "print(\"k=%d achieved highest accuracy of %.2f%% on validation data\" % (kVals[i],\n",
        "accuracies[i] * 100))"
      ],
      "execution_count": 42,
      "outputs": [
        {
          "output_type": "stream",
          "name": "stdout",
          "text": [
            "training data points: 2700\n",
            "validation data points: 300\n",
            "testing data points: 1000\n",
            "k=1, accuracy=90.67%\n",
            "k=3, accuracy=90.67%\n",
            "k=5, accuracy=90.33%\n",
            "k=7, accuracy=91.33%\n",
            "k=9, accuracy=90.67%\n",
            "k=11, accuracy=91.00%\n",
            "k=13, accuracy=90.33%\n",
            "k=15, accuracy=88.67%\n",
            "k=17, accuracy=88.33%\n",
            "k=19, accuracy=87.67%\n",
            "k=21, accuracy=87.33%\n",
            "k=23, accuracy=86.67%\n",
            "k=25, accuracy=86.67%\n",
            "k=27, accuracy=86.67%\n",
            "k=29, accuracy=87.00%\n",
            "k=31, accuracy=86.00%\n",
            "k=33, accuracy=86.00%\n",
            "k=35, accuracy=86.00%\n",
            "k=37, accuracy=85.00%\n",
            "k=39, accuracy=85.33%\n",
            "k=41, accuracy=85.33%\n",
            "k=43, accuracy=85.33%\n",
            "k=45, accuracy=85.00%\n",
            "k=47, accuracy=85.33%\n",
            "k=49, accuracy=84.67%\n",
            "k=7 achieved highest accuracy of 91.33% on validation data\n"
          ]
        }
      ]
    }
  ]
}