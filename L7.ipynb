{
  "nbformat": 4,
  "nbformat_minor": 0,
  "metadata": {
    "colab": {
      "name": "L7.ipynb",
      "provenance": [],
      "collapsed_sections": [],
      "authorship_tag": "ABX9TyMH2H1cBFbGLDZMPLYmtnK4",
      "include_colab_link": true
    },
    "kernelspec": {
      "name": "python3",
      "display_name": "Python 3"
    },
    "language_info": {
      "name": "python"
    }
  },
  "cells": [
    {
      "cell_type": "markdown",
      "metadata": {
        "id": "view-in-github",
        "colab_type": "text"
      },
      "source": [
        "<a href=\"https://colab.research.google.com/github/devadathprabhu/DSC612/blob/main/L7.ipynb\" target=\"_parent\"><img src=\"https://colab.research.google.com/assets/colab-badge.svg\" alt=\"Open In Colab\"/></a>"
      ]
    },
    {
      "cell_type": "code",
      "metadata": {
        "colab": {
          "base_uri": "https://localhost:8080/",
          "height": 332
        },
        "id": "5qCmSFC3pFY4",
        "outputId": "f19d5b0c-947d-4ecd-b908-9f4bb324df7a"
      },
      "source": [
        "import sys\n",
        "import matplotlib.pyplot as plt\n",
        "from keras.datasets import cifar10\n",
        "from keras.utils.np_utils import to_categorical\n",
        "from keras.models import Sequential\n",
        "from keras.layers import Conv2D\n",
        "from keras.layers import MaxPooling2D\n",
        "from keras.layers import Dense\n",
        "from keras.layers import Flatten\n",
        "from tensorflow.keras.optimizers import Adam\n",
        "from keras.regularizers import l2\n",
        " \n",
        "# load train and test dataset\n",
        "def load_dataset():\n",
        "\t# load dataset\n",
        "\t(trainX, trainY), (testX, testY) = cifar10.load_data()\n",
        "\t# one hot encode target values\n",
        "\ttrainY = to_categorical(trainY)\n",
        "\ttestY = to_categorical(testY)\n",
        "\treturn trainX, trainY, testX, testY\n",
        " \n",
        "# scale pixels\n",
        "def prep_pixels(train, test):\n",
        "\t# convert from integers to floats\n",
        "\ttrain_norm = train.astype('float32')\n",
        "\ttest_norm = test.astype('float32')\n",
        "\t# normalize to range 0-1\n",
        "\ttrain_norm = train_norm / 255.0\n",
        "\ttest_norm = test_norm / 255.0\n",
        "\t# return normalized images\n",
        "\treturn train_norm, test_norm\n",
        " \n",
        "# define cnn model\n",
        "def define_model():\n",
        "      model = Sequential()\n",
        "      model.add(Conv2D(32, (3, 3), activation='relu', padding='same', \n",
        "                       input_shape=(32, 32, 3)))\n",
        "      model.add(Conv2D(32, (3, 3), activation='relu', padding='same'))\n",
        "      model.add(MaxPooling2D((2, 2),strides=(2,2)))\n",
        "      model.add(Conv2D(64, (3, 3), activation='relu', padding='same'))\n",
        "      model.add(Conv2D(64, (3, 3), activation='relu', padding='same'))\n",
        "      model.add(MaxPooling2D((2, 2),strides=(2,2)))\n",
        "      model.add(Conv2D(128, (3, 3), activation='relu', padding='same'))\n",
        "      model.add(Conv2D(128, (3, 3), activation='relu', padding='same'))\n",
        "      model.add(Conv2D(128, (3, 3), activation='relu', padding='same'))\n",
        "      model.add(MaxPooling2D((2, 2),strides=(2,2)))\n",
        "      model.add(Conv2D(128, (3, 3), activation='relu', padding='same'))\n",
        "      model.add(Conv2D(128, (3, 3), activation='relu', padding='same'))\n",
        "      model.add(Conv2D(128, (3, 3), activation='relu', padding='same'))\n",
        "      model.add(MaxPooling2D((2, 2),strides=(2,2)))\n",
        "      model.add(Conv2D(128, (3, 3), activation='relu', padding='same'))\n",
        "      model.add(Conv2D(128, (3, 3), activation='relu', padding='same'))\n",
        "      model.add(Conv2D(128, (3, 3), activation='relu', padding='same'))\n",
        "      model.add(MaxPooling2D((2, 2),strides=(2,2)))\n",
        "      model.add(Flatten())\n",
        "      model.add(Dense(128, activation='relu',\n",
        "                      kernel_initializer='he_uniform',\n",
        "                      kernel_regularizer=l2(0.001)))\n",
        "      model.add(Dense(10, activation='softmax'))\n",
        " \n",
        "      opt = Adam(lr=0.001)\n",
        "      model.compile(optimizer=opt, loss='categorical_crossentropy',\n",
        "                    metrics=['accuracy'])\n",
        "      return model\n",
        " \n",
        "# plot diagnostic learning curves\n",
        "def summarize_diagnostics(history):\n",
        "\t# plot loss\n",
        "\tplt.subplot(211)\n",
        "\tplt.title('Cross Entropy Loss')\n",
        "\tplt.plot(history.history['loss'], color='blue', label='train')\n",
        "\tplt.plot(history.history['val_loss'], color='orange', label='test')\n",
        "\t# plot accuracy\n",
        "\tplt.subplot(212)\n",
        "\tplt.title('Classification Accuracy')\n",
        "\tplt.plot(history.history['accuracy'], color='blue', label='train')\n",
        "\tplt.plot(history.history['val_accuracy'], color='orange', label='test')\n",
        "\tplt.show()\n",
        " \n",
        "# run the test harness for evaluating a model\n",
        "def run_test_harness():\n",
        "\t# load dataset\n",
        "\ttrainX, trainY, testX, testY = load_dataset()\n",
        "\t# prepare pixel data\n",
        "\ttrainX, testX = prep_pixels(trainX, testX)\n",
        "\t# define model\n",
        "\tmodel = define_model()\n",
        "\t# fit model\n",
        "\thistory = model.fit(trainX, trainY, epochs=3, batch_size=64,\n",
        "                     validation_data=(testX, testY), verbose=0)\n",
        "\t# evaluate model\n",
        "\t_, acc = model.evaluate(testX, testY, verbose=0)\n",
        "\tprint('> %.3f' % (acc * 100.0))\n",
        "\t# learning curves\n",
        "\tsummarize_diagnostics(history)\n",
        " \n",
        "# entry point, run the test harness\n",
        "run_test_harness()"
      ],
      "execution_count": 32,
      "outputs": [
        {
          "output_type": "stream",
          "name": "stderr",
          "text": [
            "/usr/local/lib/python3.7/dist-packages/keras/optimizer_v2/adam.py:105: UserWarning: The `lr` argument is deprecated, use `learning_rate` instead.\n",
            "  super(Adam, self).__init__(name, **kwargs)\n"
          ]
        },
        {
          "output_type": "stream",
          "name": "stdout",
          "text": [
            "> 10.000\n"
          ]
        },
        {
          "output_type": "display_data",
          "data": {
            "image/png": "[encoded data removed]",
            "text/plain": [
              "<Figure size 432x288 with 2 Axes>"
            ]
          },
          "metadata": {
            "needs_background": "light"
          }
        }
      ]
    }
  ]
}