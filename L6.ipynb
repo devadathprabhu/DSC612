{
  "nbformat": 4,
  "nbformat_minor": 0,
  "metadata": {
    "colab": {
      "name": "L6.ipynb",
      "provenance": [],
      "collapsed_sections": [],
      "include_colab_link": true
    },
    "kernelspec": {
      "name": "python3",
      "display_name": "Python 3"
    },
    "language_info": {
      "name": "python"
    }
  },
  "cells": [
    {
      "cell_type": "markdown",
      "metadata": {
        "id": "view-in-github",
        "colab_type": "text"
      },
      "source": [
        "<a href=\"https://colab.research.google.com/github/devadathprabhu/DSC612/blob/main/L6.ipynb\" target=\"_parent\"><img src=\"https://colab.research.google.com/assets/colab-badge.svg\" alt=\"Open In Colab\"/></a>"
      ]
    },
    {
      "cell_type": "code",
      "metadata": {
        "colab": {
          "base_uri": "https://localhost:8080/"
        },
        "id": "7kirHMXJ8S7x",
        "outputId": "e90a908b-ac38-47dd-b7a9-ceeb831b4141"
      },
      "source": [
        "from google.colab import drive\n",
        "drive.mount('/content/drive')"
      ],
      "execution_count": null,
      "outputs": [
        {
          "output_type": "stream",
          "name": "stdout",
          "text": [
            "Mounted at /content/drive\n"
          ]
        }
      ]
    },
    {
      "cell_type": "code",
      "metadata": {
        "colab": {
          "base_uri": "https://localhost:8080/"
        },
        "id": "57P3N1bAG3KY",
        "outputId": "a0f09b28-9615-43f4-a43e-8e884fbdcc9d"
      },
      "source": [
        "import os, cv2, itertools\n",
        "import numpy as np\n",
        "import pandas as pd\n",
        "\n",
        "import matplotlib.pyplot as plt\n",
        "%matplotlib inline\n",
        "\n",
        "!pip install np_utils\n",
        "\n",
        "from keras.utils.np_utils import to_categorical\n",
        "\n",
        "from keras.models import Sequential\n",
        "from keras.layers import Conv2D\n",
        "from keras.layers import MaxPooling2D\n",
        "from keras.layers import Flatten\n",
        "from keras.layers import Dense\n",
        "from keras.layers import Dropout\n",
        "\n",
        "from sklearn.utils import shuffle\n",
        "\n",
        "!pip install sklearn\n",
        "import sklearn\n",
        "from sklearn.model_selection import train_test_split"
      ],
      "execution_count": null,
      "outputs": [
        {
          "output_type": "stream",
          "name": "stdout",
          "text": [
            "Collecting np_utils\n",
            "  Downloading np_utils-0.5.12.1.tar.gz (61 kB)\n",
            "\u001b[?25l\r\u001b[K     |█████▍                          | 10 kB 21.5 MB/s eta 0:00:01\r\u001b[K     |██████████▊                     | 20 kB 27.9 MB/s eta 0:00:01\r\u001b[K     |████████████████                | 30 kB 16.6 MB/s eta 0:00:01\r\u001b[K     |█████████████████████▍          | 40 kB 12.2 MB/s eta 0:00:01\r\u001b[K     |██████████████████████████▊     | 51 kB 5.4 MB/s eta 0:00:01\r\u001b[K     |████████████████████████████████| 61 kB 3.2 MB/s \n",
            "\u001b[?25hRequirement already satisfied: numpy>=1.0 in /usr/local/lib/python3.7/dist-packages (from np_utils) (1.19.5)\n",
            "Requirement already satisfied: future>=0.16 in /usr/local/lib/python3.7/dist-packages (from np_utils) (0.16.0)\n",
            "Building wheels for collected packages: np-utils\n",
            "  Building wheel for np-utils (setup.py) ... \u001b[?25l\u001b[?25hdone\n",
            "  Created wheel for np-utils: filename=np_utils-0.5.12.1-py3-none-any.whl size=57131 sha256=e11b80bb2fe59f897253573dbbd48cbbba489d605680ae994cee6334f422ecfc\n",
            "  Stored in directory: /root/.cache/pip/wheels/8c/4e/ef/095c24693723c329f4cdc1079861cdbb2487d4b41b2496a4e7\n",
            "Successfully built np-utils\n",
            "Installing collected packages: np-utils\n",
            "Successfully installed np-utils-0.5.12.1\n",
            "Requirement already satisfied: sklearn in /usr/local/lib/python3.7/dist-packages (0.0)\n",
            "Requirement already satisfied: scikit-learn in /usr/local/lib/python3.7/dist-packages (from sklearn) (0.22.2.post1)\n",
            "Requirement already satisfied: numpy>=1.11.0 in /usr/local/lib/python3.7/dist-packages (from scikit-learn->sklearn) (1.19.5)\n",
            "Requirement already satisfied: joblib>=0.11 in /usr/local/lib/python3.7/dist-packages (from scikit-learn->sklearn) (1.1.0)\n",
            "Requirement already satisfied: scipy>=0.17.0 in /usr/local/lib/python3.7/dist-packages (from scikit-learn->sklearn) (1.4.1)\n"
          ]
        }
      ]
    },
    {
      "cell_type": "code",
      "metadata": {
        "id": "LH8HVB_AG5ia"
      },
      "source": [
        "TRAIN_DIR = '/content/drive/MyDrive/DL/train/'\n",
        "TEST_DIR = '/content/drive/MyDrive/DL/test/'\n",
        "\n",
        "ROWS = 32\n",
        "COLS = 32\n",
        "CHANNELS = 3"
      ],
      "execution_count": null,
      "outputs": []
    },
    {
      "cell_type": "code",
      "metadata": {
        "id": "mir4b_QgHJPy"
      },
      "source": [
        "train_images = [TRAIN_DIR+i for i in os.listdir(TRAIN_DIR)]"
      ],
      "execution_count": null,
      "outputs": []
    },
    {
      "cell_type": "code",
      "metadata": {
        "id": "iBc0Hc2oHOCp"
      },
      "source": [
        "def read_image(file_path):\n",
        "  #print(file_path)\n",
        "  img = cv2.imread(file_path, cv2.IMREAD_COLOR)\n",
        "  #print(img)\n",
        "  return cv2.resize(img, (ROWS, COLS), interpolation=cv2.INTER_CUBIC)"
      ],
      "execution_count": null,
      "outputs": []
    },
    {
      "cell_type": "code",
      "metadata": {
        "id": "OYJoE-8DHPHC"
      },
      "source": [
        "def prep_data(images):\n",
        "  m = len(images)\n",
        "  n_x = ROWS*COLS*CHANNELS\n",
        "  \n",
        "  X = np.ndarray((m,ROWS,COLS,CHANNELS), dtype=np.uint8)\n",
        "  y = np.zeros((m,1))\n",
        "  print(\"X.shape is {}\".format(X.shape))\n",
        "  \n",
        "  for i,image_file in enumerate(images) :\n",
        "    image = read_image(image_file)\n",
        "    X[i,:] = np.squeeze(image.reshape((ROWS, COLS, CHANNELS)))\n",
        "    if 'dog' in image_file.lower() :\n",
        "      y[i,0] = 1\n",
        "    elif 'cat' in image_file.lower() :\n",
        "      y[i,0] = 0\n",
        "    else : # for test data\n",
        "      y[i,0] = image_file.split('/')[-1].split('.')[0]\n",
        "      \n",
        "    if i%5000 == 0 :\n",
        "      print(\"Proceed {} of {}\".format(i, m))\n",
        "    \n",
        "  return X,y"
      ],
      "execution_count": null,
      "outputs": []
    },
    {
      "cell_type": "code",
      "metadata": {
        "colab": {
          "base_uri": "https://localhost:8080/"
        },
        "id": "jtKgShCoHT1o",
        "outputId": "0ed3341d-d1da-470e-a1c2-9808058dbc5c"
      },
      "source": [
        "x_train, y_train = prep_data(train_images)"
      ],
      "execution_count": null,
      "outputs": [
        {
          "output_type": "stream",
          "name": "stdout",
          "text": [
            "X.shape is (615, 32, 32, 3)\n",
            "Proceed 0 of 615\n"
          ]
        }
      ]
    },
    {
      "cell_type": "code",
      "metadata": {
        "colab": {
          "base_uri": "https://localhost:8080/"
        },
        "id": "sBTIwO8yIWqL",
        "outputId": "e7a09c42-9d6c-4ee6-db5f-d188929d092f"
      },
      "source": [
        "x_train,x_test,y_train,y_test=train_test_split(x_train,y_train,test_size=.4)\n",
        "x_train,x_val,y_train,y_val=train_test_split(x_train,y_train,test_size=.2)\n",
        "from sklearn.utils.multiclass import unique_labels\n",
        "from tensorflow.keras.utils import to_categorical\n",
        "y_train=to_categorical(y_train)\n",
        "y_val=to_categorical(y_val)\n",
        "y_test=to_categorical(y_test)\n",
        "#Verifying the dimension after one hot encoding\n",
        "print((x_train.shape,y_train.shape))\n",
        "print((x_val.shape,y_val.shape))\n",
        "print((x_test.shape,y_test.shape))"
      ],
      "execution_count": null,
      "outputs": [
        {
          "output_type": "stream",
          "name": "stdout",
          "text": [
            "((295, 32, 32, 3), (295, 2))\n",
            "((74, 32, 32, 3), (74, 2))\n",
            "((246, 32, 32, 3), (246, 2))\n"
          ]
        }
      ]
    },
    {
      "cell_type": "code",
      "metadata": {
        "id": "a22FdEysLFCU"
      },
      "source": [
        "from keras.preprocessing.image import ImageDataGenerator\n",
        "train_generator = ImageDataGenerator(rotation_range=2, \n",
        "                                     horizontal_flip=True,zoom_range=.1 )\n",
        "val_generator = ImageDataGenerator(rotation_range=2, \n",
        "                                   horizontal_flip=True,zoom_range=.1)\n",
        "test_generator = ImageDataGenerator(rotation_range=2, \n",
        "                                    horizontal_flip= True,zoom_range=.1)\n",
        "#Fitting the augmentation defined above to the data\n",
        "train_generator.fit(x_train)\n",
        "val_generator.fit(x_val)\n",
        "test_generator.fit(x_test)"
      ],
      "execution_count": null,
      "outputs": []
    },
    {
      "cell_type": "code",
      "metadata": {
        "colab": {
          "base_uri": "https://localhost:8080/"
        },
        "id": "Lk1QxOktLc67",
        "outputId": "ff939ebe-ece3-48b7-aca4-beb398224ab7"
      },
      "source": [
        "#Importing library\n",
        "import keras\n",
        "from keras.models import Sequential\n",
        "from keras.layers import Dense, Activation, Dropout, Flatten, Conv2D, MaxPooling2D\n",
        "from tensorflow.keras.layers import BatchNormalization\n",
        "import numpy as np\n",
        "\n",
        "np.random.seed(1000)\n",
        "\n",
        "#Instantiation\n",
        "AlexNet = Sequential()\n",
        "\n",
        "#1st Convolutional Layer\n",
        "AlexNet.add(Conv2D(filters=96,input_shape=(32,32,3),kernel_size=(11,11),\n",
        "                   strides=(4,4),padding='same'))\n",
        "AlexNet.add(BatchNormalization())\n",
        "AlexNet.add(Activation('relu'))\n",
        "AlexNet.add(MaxPooling2D(pool_size=(2,2), strides=(2,2), padding='same'))\n",
        "\n",
        "#2nd Convolutional Layer\n",
        "AlexNet.add(Conv2D(filters=256, kernel_size=(5, 5), strides=(1,1), padding='same'))\n",
        "AlexNet.add(BatchNormalization())\n",
        "AlexNet.add(Activation('relu'))\n",
        "AlexNet.add(MaxPooling2D(pool_size=(2,2), strides=(2,2), padding='same'))\n",
        "\n",
        "#3rd Convolutional Layer\n",
        "AlexNet.add(Conv2D(filters=384,kernel_size=(3,3),strides=(1,1),padding='same'))\n",
        "AlexNet.add(BatchNormalization())\n",
        "AlexNet.add(Activation('relu'))\n",
        "\n",
        "#4th Convolutional Layer\n",
        "AlexNet.add(Conv2D(filters=384,kernel_size=(3,3),strides=(1,1),padding='same'))\n",
        "AlexNet.add(BatchNormalization())\n",
        "AlexNet.add(Activation('relu'))\n",
        "\n",
        "#5th Convolutional Layer\n",
        "AlexNet.add(Conv2D(filters=256,kernel_size=(3,3),strides=(1,1),padding='same'))\n",
        "AlexNet.add(BatchNormalization())\n",
        "AlexNet.add(Activation('relu'))\n",
        "AlexNet.add(MaxPooling2D(pool_size=(2,2), strides=(2,2), padding='same'))\n",
        "\n",
        "#Passing it to a Fully Connected layer\n",
        "AlexNet.add(Flatten())\n",
        "# 1st Fully Connected Layer\n",
        "AlexNet.add(Dense(4096, input_shape=(32,32,3,)))\n",
        "AlexNet.add(BatchNormalization())\n",
        "AlexNet.add(Activation('relu'))\n",
        "# Add Dropout to prevent overfitting\n",
        "AlexNet.add(Dropout(0.4))\n",
        "\n",
        "#2nd Fully Connected Layer\n",
        "AlexNet.add(Dense(4096))\n",
        "AlexNet.add(BatchNormalization())\n",
        "AlexNet.add(Activation('relu'))\n",
        "#Add Dropout\n",
        "AlexNet.add(Dropout(0.4))\n",
        "\n",
        "#3rd Fully Connected Layer\n",
        "AlexNet.add(Dense(1000))\n",
        "AlexNet.add(BatchNormalization())\n",
        "AlexNet.add(Activation('relu'))\n",
        "#Add Dropout\n",
        "AlexNet.add(Dropout(0.4))\n",
        "\n",
        "#Output Layer\n",
        "AlexNet.add(Dense(2))\n",
        "AlexNet.add(BatchNormalization())\n",
        "AlexNet.add(Activation('softmax'))\n",
        "\n",
        "#Model Summary\n",
        "AlexNet.summary()"
      ],
      "execution_count": null,
      "outputs": [
        {
          "output_type": "stream",
          "name": "stdout",
          "text": [
            "Model: \"sequential_1\"\n",
            "_________________________________________________________________\n",
            " Layer (type)                Output Shape              Param #   \n",
            "=================================================================\n",
            " conv2d_5 (Conv2D)           (None, 8, 8, 96)          34944     \n",
            "                                                                 \n",
            " batch_normalization_9 (Batc  (None, 8, 8, 96)         384       \n",
            " hNormalization)                                                 \n",
            "                                                                 \n",
            " activation_9 (Activation)   (None, 8, 8, 96)          0         \n",
            "                                                                 \n",
            " max_pooling2d_3 (MaxPooling  (None, 4, 4, 96)         0         \n",
            " 2D)                                                             \n",
            "                                                                 \n",
            " conv2d_6 (Conv2D)           (None, 4, 4, 256)         614656    \n",
            "                                                                 \n",
            " batch_normalization_10 (Bat  (None, 4, 4, 256)        1024      \n",
            " chNormalization)                                                \n",
            "                                                                 \n",
            " activation_10 (Activation)  (None, 4, 4, 256)         0         \n",
            "                                                                 \n",
            " max_pooling2d_4 (MaxPooling  (None, 2, 2, 256)        0         \n",
            " 2D)                                                             \n",
            "                                                                 \n",
            " conv2d_7 (Conv2D)           (None, 2, 2, 384)         885120    \n",
            "                                                                 \n",
            " batch_normalization_11 (Bat  (None, 2, 2, 384)        1536      \n",
            " chNormalization)                                                \n",
            "                                                                 \n",
            " activation_11 (Activation)  (None, 2, 2, 384)         0         \n",
            "                                                                 \n",
            " conv2d_8 (Conv2D)           (None, 2, 2, 384)         1327488   \n",
            "                                                                 \n",
            " batch_normalization_12 (Bat  (None, 2, 2, 384)        1536      \n",
            " chNormalization)                                                \n",
            "                                                                 \n",
            " activation_12 (Activation)  (None, 2, 2, 384)         0         \n",
            "                                                                 \n",
            " conv2d_9 (Conv2D)           (None, 2, 2, 256)         884992    \n",
            "                                                                 \n",
            " batch_normalization_13 (Bat  (None, 2, 2, 256)        1024      \n",
            " chNormalization)                                                \n",
            "                                                                 \n",
            " activation_13 (Activation)  (None, 2, 2, 256)         0         \n",
            "                                                                 \n",
            " max_pooling2d_5 (MaxPooling  (None, 1, 1, 256)        0         \n",
            " 2D)                                                             \n",
            "                                                                 \n",
            " flatten_1 (Flatten)         (None, 256)               0         \n",
            "                                                                 \n",
            " dense_4 (Dense)             (None, 4096)              1052672   \n",
            "                                                                 \n",
            " batch_normalization_14 (Bat  (None, 4096)             16384     \n",
            " chNormalization)                                                \n",
            "                                                                 \n",
            " activation_14 (Activation)  (None, 4096)              0         \n",
            "                                                                 \n",
            " dropout_3 (Dropout)         (None, 4096)              0         \n",
            "                                                                 \n",
            " dense_5 (Dense)             (None, 4096)              16781312  \n",
            "                                                                 \n",
            " batch_normalization_15 (Bat  (None, 4096)             16384     \n",
            " chNormalization)                                                \n",
            "                                                                 \n",
            " activation_15 (Activation)  (None, 4096)              0         \n",
            "                                                                 \n",
            " dropout_4 (Dropout)         (None, 4096)              0         \n",
            "                                                                 \n",
            " dense_6 (Dense)             (None, 1000)              4097000   \n",
            "                                                                 \n",
            " batch_normalization_16 (Bat  (None, 1000)             4000      \n",
            " chNormalization)                                                \n",
            "                                                                 \n",
            " activation_16 (Activation)  (None, 1000)              0         \n",
            "                                                                 \n",
            " dropout_5 (Dropout)         (None, 1000)              0         \n",
            "                                                                 \n",
            " dense_7 (Dense)             (None, 2)                 2002      \n",
            "                                                                 \n",
            " batch_normalization_17 (Bat  (None, 2)                8         \n",
            " chNormalization)                                                \n",
            "                                                                 \n",
            " activation_17 (Activation)  (None, 2)                 0         \n",
            "                                                                 \n",
            "=================================================================\n",
            "Total params: 25,722,466\n",
            "Trainable params: 25,701,326\n",
            "Non-trainable params: 21,140\n",
            "_________________________________________________________________\n"
          ]
        }
      ]
    },
    {
      "cell_type": "code",
      "metadata": {
        "id": "37yp6vA_L6_c"
      },
      "source": [
        "AlexNet.compile(loss = keras.losses.categorical_crossentropy,\n",
        "                optimizer= 'adam', metrics=['accuracy'])"
      ],
      "execution_count": null,
      "outputs": []
    },
    {
      "cell_type": "code",
      "metadata": {
        "id": "ygSP63IPQC5e"
      },
      "source": [
        "from keras.callbacks import ReduceLROnPlateau\n",
        "lrr= ReduceLROnPlateau(monitor='val_acc', factor=.01, patience=3, min_lr=1e-5)\n",
        "#Defining the parameters\n",
        "batch_size=15\n",
        "epochs=20\n",
        "learn_rate=.001"
      ],
      "execution_count": null,
      "outputs": []
    },
    {
      "cell_type": "code",
      "metadata": {
        "colab": {
          "base_uri": "https://localhost:8080/"
        },
        "id": "aFkuh-6pL-7g",
        "outputId": "feb2e2c4-34d0-4845-d012-1227309616c6"
      },
      "source": [
        "AlexNet.fit_generator(\n",
        "    train_generator.flow(x_train, y_train, batch_size=batch_size),\n",
        "     epochs = epochs, steps_per_epoch = x_train.shape[0]//batch_size,\n",
        "      validation_data = val_generator.flow(x_val, y_val, batch_size=batch_size),\n",
        "       validation_steps = 250, callbacks = [lrr], verbose=1)"
      ],
      "execution_count": null,
      "outputs": [
        {
          "output_type": "stream",
          "name": "stderr",
          "text": [
            "/usr/local/lib/python3.7/dist-packages/ipykernel_launcher.py:1: UserWarning: `Model.fit_generator` is deprecated and will be removed in a future version. Please use `Model.fit`, which supports generators.\n",
            "  \"\"\"Entry point for launching an IPython kernel.\n"
          ]
        },
        {
          "output_type": "stream",
          "name": "stdout",
          "text": [
            "Epoch 1/20\n",
            "19/19 [==============================] - ETA: 0s - loss: 0.6642 - accuracy: 0.6143WARNING:tensorflow:Your input ran out of data; interrupting training. Make sure that your dataset or generator can generate at least `steps_per_epoch * epochs` batches (in this case, 250 batches). You may need to use the repeat() function when building your dataset.\n",
            "WARNING:tensorflow:Learning rate reduction is conditioned on metric `val_acc` which is not available. Available metrics are: loss,accuracy,val_loss,val_accuracy,lr\n",
            "19/19 [==============================] - 8s 446ms/step - loss: 0.6642 - accuracy: 0.6143 - val_loss: 28.5806 - val_accuracy: 0.3919 - lr: 0.0010\n",
            "Epoch 2/20\n",
            "19/19 [==============================] - ETA: 0s - loss: 0.6702 - accuracy: 0.5893WARNING:tensorflow:Learning rate reduction is conditioned on metric `val_acc` which is not available. Available metrics are: loss,accuracy,lr\n",
            "19/19 [==============================] - 8s 421ms/step - loss: 0.6702 - accuracy: 0.5893 - lr: 0.0010\n",
            "Epoch 3/20\n",
            "19/19 [==============================] - ETA: 0s - loss: 0.6532 - accuracy: 0.6357WARNING:tensorflow:Learning rate reduction is conditioned on metric `val_acc` which is not available. Available metrics are: loss,accuracy,lr\n",
            "19/19 [==============================] - 8s 429ms/step - loss: 0.6532 - accuracy: 0.6357 - lr: 0.0010\n",
            "Epoch 4/20\n",
            "19/19 [==============================] - ETA: 0s - loss: 0.6162 - accuracy: 0.6929WARNING:tensorflow:Learning rate reduction is conditioned on metric `val_acc` which is not available. Available metrics are: loss,accuracy,lr\n",
            "19/19 [==============================] - 8s 420ms/step - loss: 0.6162 - accuracy: 0.6929 - lr: 0.0010\n",
            "Epoch 5/20\n",
            "19/19 [==============================] - ETA: 0s - loss: 0.5875 - accuracy: 0.7053WARNING:tensorflow:Learning rate reduction is conditioned on metric `val_acc` which is not available. Available metrics are: loss,accuracy,lr\n",
            "19/19 [==============================] - 8s 425ms/step - loss: 0.5875 - accuracy: 0.7053 - lr: 0.0010\n",
            "Epoch 6/20\n",
            "19/19 [==============================] - ETA: 0s - loss: 0.5967 - accuracy: 0.6821WARNING:tensorflow:Learning rate reduction is conditioned on metric `val_acc` which is not available. Available metrics are: loss,accuracy,lr\n",
            "19/19 [==============================] - 8s 425ms/step - loss: 0.5967 - accuracy: 0.6821 - lr: 0.0010\n",
            "Epoch 7/20\n",
            "19/19 [==============================] - ETA: 0s - loss: 0.5766 - accuracy: 0.7214WARNING:tensorflow:Learning rate reduction is conditioned on metric `val_acc` which is not available. Available metrics are: loss,accuracy,lr\n",
            "19/19 [==============================] - 8s 427ms/step - loss: 0.5766 - accuracy: 0.7214 - lr: 0.0010\n",
            "Epoch 8/20\n",
            "19/19 [==============================] - ETA: 0s - loss: 0.5366 - accuracy: 0.7536WARNING:tensorflow:Learning rate reduction is conditioned on metric `val_acc` which is not available. Available metrics are: loss,accuracy,lr\n",
            "19/19 [==============================] - 8s 423ms/step - loss: 0.5366 - accuracy: 0.7536 - lr: 0.0010\n",
            "Epoch 9/20\n",
            "19/19 [==============================] - ETA: 0s - loss: 0.5721 - accuracy: 0.7107WARNING:tensorflow:Learning rate reduction is conditioned on metric `val_acc` which is not available. Available metrics are: loss,accuracy,lr\n",
            "19/19 [==============================] - 8s 429ms/step - loss: 0.5721 - accuracy: 0.7107 - lr: 0.0010\n",
            "Epoch 10/20\n",
            "19/19 [==============================] - ETA: 0s - loss: 0.5759 - accuracy: 0.6964WARNING:tensorflow:Learning rate reduction is conditioned on metric `val_acc` which is not available. Available metrics are: loss,accuracy,lr\n",
            "19/19 [==============================] - 8s 424ms/step - loss: 0.5759 - accuracy: 0.6964 - lr: 0.0010\n",
            "Epoch 11/20\n",
            "19/19 [==============================] - ETA: 0s - loss: 0.5146 - accuracy: 0.7464WARNING:tensorflow:Learning rate reduction is conditioned on metric `val_acc` which is not available. Available metrics are: loss,accuracy,lr\n",
            "19/19 [==============================] - 8s 421ms/step - loss: 0.5146 - accuracy: 0.7464 - lr: 0.0010\n",
            "Epoch 12/20\n",
            "19/19 [==============================] - ETA: 0s - loss: 0.4949 - accuracy: 0.7893WARNING:tensorflow:Learning rate reduction is conditioned on metric `val_acc` which is not available. Available metrics are: loss,accuracy,lr\n",
            "19/19 [==============================] - 8s 423ms/step - loss: 0.4949 - accuracy: 0.7893 - lr: 0.0010\n",
            "Epoch 13/20\n",
            "19/19 [==============================] - ETA: 0s - loss: 0.5122 - accuracy: 0.7643WARNING:tensorflow:Learning rate reduction is conditioned on metric `val_acc` which is not available. Available metrics are: loss,accuracy,lr\n",
            "19/19 [==============================] - 8s 424ms/step - loss: 0.5122 - accuracy: 0.7643 - lr: 0.0010\n",
            "Epoch 14/20\n",
            "19/19 [==============================] - ETA: 0s - loss: 0.4817 - accuracy: 0.7750WARNING:tensorflow:Learning rate reduction is conditioned on metric `val_acc` which is not available. Available metrics are: loss,accuracy,lr\n",
            "19/19 [==============================] - 8s 429ms/step - loss: 0.4817 - accuracy: 0.7750 - lr: 0.0010\n",
            "Epoch 15/20\n",
            "19/19 [==============================] - ETA: 0s - loss: 0.4962 - accuracy: 0.7714WARNING:tensorflow:Learning rate reduction is conditioned on metric `val_acc` which is not available. Available metrics are: loss,accuracy,lr\n",
            "19/19 [==============================] - 8s 430ms/step - loss: 0.4962 - accuracy: 0.7714 - lr: 0.0010\n",
            "Epoch 16/20\n",
            "19/19 [==============================] - ETA: 0s - loss: 0.4575 - accuracy: 0.7893WARNING:tensorflow:Learning rate reduction is conditioned on metric `val_acc` which is not available. Available metrics are: loss,accuracy,lr\n",
            "19/19 [==============================] - 8s 429ms/step - loss: 0.4575 - accuracy: 0.7893 - lr: 0.0010\n",
            "Epoch 17/20\n",
            "19/19 [==============================] - ETA: 0s - loss: 0.4179 - accuracy: 0.8179WARNING:tensorflow:Learning rate reduction is conditioned on metric `val_acc` which is not available. Available metrics are: loss,accuracy,lr\n",
            "19/19 [==============================] - 8s 424ms/step - loss: 0.4179 - accuracy: 0.8179 - lr: 0.0010\n",
            "Epoch 18/20\n",
            "19/19 [==============================] - ETA: 0s - loss: 0.3903 - accuracy: 0.8464WARNING:tensorflow:Learning rate reduction is conditioned on metric `val_acc` which is not available. Available metrics are: loss,accuracy,lr\n",
            "19/19 [==============================] - 8s 421ms/step - loss: 0.3903 - accuracy: 0.8464 - lr: 0.0010\n",
            "Epoch 19/20\n",
            "19/19 [==============================] - ETA: 0s - loss: 0.3685 - accuracy: 0.8286WARNING:tensorflow:Learning rate reduction is conditioned on metric `val_acc` which is not available. Available metrics are: loss,accuracy,lr\n",
            "19/19 [==============================] - 8s 422ms/step - loss: 0.3685 - accuracy: 0.8286 - lr: 0.0010\n",
            "Epoch 20/20\n",
            "19/19 [==============================] - ETA: 0s - loss: 0.3484 - accuracy: 0.8500WARNING:tensorflow:Learning rate reduction is conditioned on metric `val_acc` which is not available. Available metrics are: loss,accuracy,lr\n",
            "19/19 [==============================] - 8s 421ms/step - loss: 0.3484 - accuracy: 0.8500 - lr: 0.0010\n"
          ]
        },
        {
          "output_type": "execute_result",
          "data": {
            "text/plain": [
              "<keras.callbacks.History at 0x7f0574e2aed0>"
            ]
          },
          "metadata": {},
          "execution_count": 37
        }
      ]
    },
    {
      "cell_type": "code",
      "metadata": {
        "colab": {
          "base_uri": "https://localhost:8080/",
          "height": 282
        },
        "id": "Ipz_XKSdVCwD",
        "outputId": "47169542-436d-41ac-86b2-2c4e2ef7fcd8"
      },
      "source": [
        "import matplotlib.pyplot as plt\n",
        "#Plotting the training and validation loss\n",
        "\n",
        "f,ax=plt.subplots(2,1) #Creates 2 subplots under 1 column\n",
        "\n",
        "#Assigning the first subplot to graph training loss and validation loss\n",
        "ax[0].plot(AlexNet.history.history['loss'],color='b',label='Training Loss')\n",
        "ax[0].plot(AlexNet.history.history['val_loss'],color='r',label='Validation Loss')\n",
        "\n",
        "#Plotting the training accuracy and validation accuracy\n",
        "ax[1].plot(AlexNet.history.history['accuracy'],color='b',label='Training  Accuracy')\n",
        "ax[1].plot(AlexNet.history.history['val_accuracy'],color='r',label='Validation Accuracy')\n",
        "\n",
        "plt.legend()"
      ],
      "execution_count": null,
      "outputs": [
        {
          "output_type": "execute_result",
          "data": {
            "text/plain": [
              "<matplotlib.legend.Legend at 0x7f0574df3810>"
            ]
          },
          "metadata": {},
          "execution_count": 38
        },
        {
          "output_type": "display_data",
          "data": {
            "image/png": "[encoded data removed]",
            "text/plain": [
              "<Figure size 432x288 with 2 Axes>"
            ]
          },
          "metadata": {
            "needs_background": "light"
          }
        }
      ]
    }
  ]
}