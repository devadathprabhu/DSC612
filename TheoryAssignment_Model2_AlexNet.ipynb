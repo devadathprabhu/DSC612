{
  "nbformat": 4,
  "nbformat_minor": 0,
  "metadata": {
    "colab": {
      "name": "TheoryAssignment_Model2_AlexNet.ipynb",
      "provenance": [],
      "authorship_tag": "ABX9TyOlKbITfbvNdqj+0zoYanwc",
      "include_colab_link": true
    },
    "kernelspec": {
      "display_name": "Python 3",
      "name": "python3"
    },
    "language_info": {
      "name": "python"
    }
  },
  "cells": [
    {
      "cell_type": "markdown",
      "metadata": {
        "id": "view-in-github",
        "colab_type": "text"
      },
      "source": [
        "<a href=\"https://colab.research.google.com/github/devadathprabhu/DSC612/blob/main/TheoryAssignment_Model2_AlexNet.ipynb\" target=\"_parent\"><img src=\"https://colab.research.google.com/assets/colab-badge.svg\" alt=\"Open In Colab\"/></a>"
      ]
    },
    {
      "cell_type": "code",
      "metadata": {
        "colab": {
          "base_uri": "https://localhost:8080/"
        },
        "id": "LJ5kI-dxi0KW",
        "outputId": "a7140385-0123-4688-b43b-8459181a6a38"
      },
      "source": [
        "from google.colab import drive\n",
        "drive.mount('/content/gdrive')"
      ],
      "execution_count": null,
      "outputs": [
        {
          "name": "stdout",
          "output_type": "stream",
          "text": [
            "Mounted at /content/gdrive\n"
          ]
        }
      ]
    },
    {
      "cell_type": "code",
      "metadata": {
        "id": "UXkSJr6gkNM8"
      },
      "source": [
        "import os\n",
        "os.environ['KAGGLE_CONFIG_DIR'] = \"/content/gdrive/MyDrive/Kaggle\""
      ],
      "execution_count": 38,
      "outputs": []
    },
    {
      "cell_type": "code",
      "metadata": {
        "colab": {
          "base_uri": "https://localhost:8080/",
          "height": 0
        },
        "id": "0bR0G-NNkSwL",
        "outputId": "643049ca-bead-4e24-cdcb-f4deca230c38"
      },
      "source": [
        "%cd /content/gdrive/MyDrive/Kaggle"
      ],
      "execution_count": 5,
      "outputs": [
        {
          "output_type": "stream",
          "name": "stdout",
          "text": [
            "/content/gdrive/MyDrive/Kaggle\n"
          ]
        }
      ]
    },
    {
      "cell_type": "code",
      "metadata": {
        "id": "XfxsTe8SkXkS"
      },
      "source": [
        "import os\n",
        "import numpy as np\n",
        "import pandas as pd\n",
        "import matplotlib.pyplot as plt\n",
        "from glob import glob\n",
        "from skimage import io\n",
        "import cv2\n",
        "import random\n",
        "\n",
        "import tensorflow as tf\n",
        "from keras.models import Model\n",
        "from keras.models import Input\n",
        "from keras.layers import Conv2D\n",
        "from keras.layers import Conv2DTranspose\n",
        "from keras.layers import add\n",
        "from keras.layers import Activation\n",
        "from keras.layers import UpSampling2D\n",
        "from keras.layers import Dropout\n",
        "from keras.layers import BatchNormalization\n",
        "from keras.layers import MaxPooling2D\n",
        "from keras.layers import Lambda\n",
        "from keras.layers import multiply\n",
        "from keras.layers import concatenate\n",
        "\n",
        "from tensorflow.keras import backend as K\n",
        "from tensorflow.keras.metrics import MeanIoU\n",
        "from sklearn.model_selection import train_test_split"
      ],
      "execution_count": 37,
      "outputs": []
    },
    {
      "cell_type": "code",
      "metadata": {
        "id": "tlagW10tkaHm"
      },
      "source": [
        "path = \"/content/gdrive/MyDrive/Kaggle/lgg-mri-segmentation/kaggle_3m/\"\n",
        "masks_dir = glob(path + \"*/*_mask*\")\n",
        "\n",
        "images_dir = []\n",
        "for img in masks_dir:\n",
        "    images_dir.append(img.replace(\"_mask\", \"\"))\n",
        "data_brain = pd.DataFrame(data={\n",
        "                                \"file_images\":images_dir, \n",
        "                                \"file_masks\":masks_dir\n",
        "                                })"
      ],
      "execution_count": 39,
      "outputs": []
    },
    {
      "cell_type": "code",
      "metadata": {
        "id": "H3G1TPliojit"
      },
      "source": [
        "ROWS = 32\n",
        "COLS = 32\n",
        "CHANNELS = 3"
      ],
      "execution_count": 40,
      "outputs": []
    },
    {
      "cell_type": "code",
      "metadata": {
        "id": "JI7wJHcWkrxy"
      },
      "source": [
        "def read_image(file_path):\n",
        "  #print(file_path)\n",
        "  img = cv2.imread(file_path, cv2.IMREAD_COLOR)\n",
        "  #print(img)\n",
        "  return cv2.resize(img, (ROWS, COLS), interpolation=cv2.INTER_CUBIC)"
      ],
      "execution_count": 41,
      "outputs": []
    },
    {
      "cell_type": "code",
      "metadata": {
        "id": "ijBrp5Qqx2W_"
      },
      "source": [
        "all_imgs = masks_dir + images_dir"
      ],
      "execution_count": 43,
      "outputs": []
    },
    {
      "cell_type": "code",
      "metadata": {
        "id": "OB4gIVcNwaEr"
      },
      "source": [
        "def prep_data(images):\n",
        "  m = len(images)\n",
        "  n_x = ROWS*COLS*CHANNELS\n",
        "  X = np.ndarray((m,ROWS,COLS,CHANNELS), dtype=np.uint8)\n",
        "  y = np.zeros((m,1))\n",
        "  print(\"X.shape is {}\".format(X.shape))\n",
        "  for i,image_file in enumerate(images) :\n",
        "    image = read_image(image_file)\n",
        "    X[i,:] = np.squeeze(image.reshape((ROWS, COLS, CHANNELS)))\n",
        "    if 'mask' in image_file.lower() :\n",
        "      y[i,0] = 1\n",
        "    else :\n",
        "      y[i,0] = 0\n",
        "  return X,y"
      ],
      "execution_count": 44,
      "outputs": []
    },
    {
      "cell_type": "code",
      "metadata": {
        "colab": {
          "base_uri": "https://localhost:8080/",
          "height": 0
        },
        "id": "QINS-tvZkvdh",
        "outputId": "7ef65590-93cd-47f9-a484-d6fa5a5e7a6b"
      },
      "source": [
        "x_train, y_train = prep_data(all_imgs)"
      ],
      "execution_count": 45,
      "outputs": [
        {
          "output_type": "stream",
          "name": "stdout",
          "text": [
            "X.shape is (7858, 32, 32, 3)\n"
          ]
        }
      ]
    },
    {
      "cell_type": "code",
      "metadata": {
        "colab": {
          "base_uri": "https://localhost:8080/",
          "height": 0
        },
        "id": "509zAl0Z0Gne",
        "outputId": "cb394190-ffe3-48d9-b725-b646eb8f0ec8"
      },
      "source": [
        "x_train,x_test,y_train,y_test=train_test_split(x_train,y_train,test_size=.4)\n",
        "x_train,x_val,y_train,y_val=train_test_split(x_train,y_train,test_size=.2)\n",
        "from sklearn.utils.multiclass import unique_labels\n",
        "from tensorflow.keras.utils import to_categorical\n",
        "y_train=to_categorical(y_train)\n",
        "y_val=to_categorical(y_val)\n",
        "y_test=to_categorical(y_test)\n",
        "#Verifying the dimension after one hot encoding\n",
        "print((x_train.shape,y_train.shape))\n",
        "print((x_val.shape,y_val.shape))\n",
        "print((x_test.shape,y_test.shape))"
      ],
      "execution_count": 46,
      "outputs": [
        {
          "output_type": "stream",
          "name": "stdout",
          "text": [
            "((3771, 32, 32, 3), (3771, 2))\n",
            "((943, 32, 32, 3), (943, 2))\n",
            "((3144, 32, 32, 3), (3144, 2))\n"
          ]
        }
      ]
    },
    {
      "cell_type": "code",
      "metadata": {
        "id": "Fw7bHGGBQNrO"
      },
      "source": [
        "from keras.preprocessing.image import ImageDataGenerator\n",
        "train_generator = ImageDataGenerator(rotation_range=2, \n",
        "                                     horizontal_flip=True,zoom_range=.1 )\n",
        "val_generator = ImageDataGenerator(rotation_range=2, \n",
        "                                   horizontal_flip=True,zoom_range=.1)\n",
        "test_generator = ImageDataGenerator(rotation_range=2, \n",
        "                                    horizontal_flip= True,zoom_range=.1)\n",
        "#Fitting the augmentation defined above to the data\n",
        "train_generator.fit(x_train)\n",
        "val_generator.fit(x_val)\n",
        "test_generator.fit(x_test)"
      ],
      "execution_count": 47,
      "outputs": []
    },
    {
      "cell_type": "code",
      "metadata": {
        "colab": {
          "base_uri": "https://localhost:8080/",
          "height": 0
        },
        "id": "I1A1FOAVQQvU",
        "outputId": "7234cbcb-3c8f-4bea-fc8a-37e9c9e87a14"
      },
      "source": [
        "import keras\n",
        "from keras.models import Sequential\n",
        "from keras.layers import Dense, Activation, Dropout, Flatten, Conv2D, MaxPooling2D\n",
        "from tensorflow.keras.layers import BatchNormalization\n",
        "import numpy as np\n",
        "\n",
        "np.random.seed(1000)\n",
        "\n",
        "#Instantiation\n",
        "AlexNet = Sequential()\n",
        "\n",
        "#1st Convolutional Layer\n",
        "AlexNet.add(Conv2D(filters=96,input_shape=(32,32,3),kernel_size=(11,11),\n",
        "                   strides=(4,4),padding='same'))\n",
        "AlexNet.add(BatchNormalization())\n",
        "AlexNet.add(Activation('relu'))\n",
        "AlexNet.add(MaxPooling2D(pool_size=(2,2), strides=(2,2), padding='same'))\n",
        "\n",
        "#2nd Convolutional Layer\n",
        "AlexNet.add(Conv2D(filters=256, kernel_size=(5, 5), strides=(1,1), padding='same'))\n",
        "AlexNet.add(BatchNormalization())\n",
        "AlexNet.add(Activation('relu'))\n",
        "AlexNet.add(MaxPooling2D(pool_size=(2,2), strides=(2,2), padding='same'))\n",
        "\n",
        "#3rd Convolutional Layer\n",
        "AlexNet.add(Conv2D(filters=384,kernel_size=(3,3),strides=(1,1),padding='same'))\n",
        "AlexNet.add(BatchNormalization())\n",
        "AlexNet.add(Activation('relu'))\n",
        "\n",
        "#4th Convolutional Layer\n",
        "AlexNet.add(Conv2D(filters=384,kernel_size=(3,3),strides=(1,1),padding='same'))\n",
        "AlexNet.add(BatchNormalization())\n",
        "AlexNet.add(Activation('relu'))\n",
        "\n",
        "#5th Convolutional Layer\n",
        "AlexNet.add(Conv2D(filters=256,kernel_size=(3,3),strides=(1,1),padding='same'))\n",
        "AlexNet.add(BatchNormalization())\n",
        "AlexNet.add(Activation('relu'))\n",
        "AlexNet.add(MaxPooling2D(pool_size=(2,2), strides=(2,2), padding='same'))\n",
        "\n",
        "#Passing it to a Fully Connected layer\n",
        "AlexNet.add(Flatten())\n",
        "# 1st Fully Connected Layer\n",
        "AlexNet.add(Dense(4096, input_shape=(32,32,3,)))\n",
        "AlexNet.add(BatchNormalization())\n",
        "AlexNet.add(Activation('relu'))\n",
        "# Add Dropout to prevent overfitting\n",
        "AlexNet.add(Dropout(0.4))\n",
        "\n",
        "#2nd Fully Connected Layer\n",
        "AlexNet.add(Dense(4096))\n",
        "AlexNet.add(BatchNormalization())\n",
        "AlexNet.add(Activation('relu'))\n",
        "#Add Dropout\n",
        "AlexNet.add(Dropout(0.4))\n",
        "\n",
        "#3rd Fully Connected Layer\n",
        "AlexNet.add(Dense(1000))\n",
        "AlexNet.add(BatchNormalization())\n",
        "AlexNet.add(Activation('relu'))\n",
        "#Add Dropout\n",
        "AlexNet.add(Dropout(0.4))\n",
        "\n",
        "#Output Layer\n",
        "AlexNet.add(Dense(2))\n",
        "AlexNet.add(BatchNormalization())\n",
        "AlexNet.add(Activation('softmax'))\n",
        "\n",
        "#Model Summary\n",
        "AlexNet.summary()"
      ],
      "execution_count": 48,
      "outputs": [
        {
          "output_type": "stream",
          "name": "stdout",
          "text": [
            "Model: \"sequential_1\"\n",
            "_________________________________________________________________\n",
            " Layer (type)                Output Shape              Param #   \n",
            "=================================================================\n",
            " conv2d_5 (Conv2D)           (None, 8, 8, 96)          34944     \n",
            "                                                                 \n",
            " batch_normalization_9 (Batc  (None, 8, 8, 96)         384       \n",
            " hNormalization)                                                 \n",
            "                                                                 \n",
            " activation_9 (Activation)   (None, 8, 8, 96)          0         \n",
            "                                                                 \n",
            " max_pooling2d_3 (MaxPooling  (None, 4, 4, 96)         0         \n",
            " 2D)                                                             \n",
            "                                                                 \n",
            " conv2d_6 (Conv2D)           (None, 4, 4, 256)         614656    \n",
            "                                                                 \n",
            " batch_normalization_10 (Bat  (None, 4, 4, 256)        1024      \n",
            " chNormalization)                                                \n",
            "                                                                 \n",
            " activation_10 (Activation)  (None, 4, 4, 256)         0         \n",
            "                                                                 \n",
            " max_pooling2d_4 (MaxPooling  (None, 2, 2, 256)        0         \n",
            " 2D)                                                             \n",
            "                                                                 \n",
            " conv2d_7 (Conv2D)           (None, 2, 2, 384)         885120    \n",
            "                                                                 \n",
            " batch_normalization_11 (Bat  (None, 2, 2, 384)        1536      \n",
            " chNormalization)                                                \n",
            "                                                                 \n",
            " activation_11 (Activation)  (None, 2, 2, 384)         0         \n",
            "                                                                 \n",
            " conv2d_8 (Conv2D)           (None, 2, 2, 384)         1327488   \n",
            "                                                                 \n",
            " batch_normalization_12 (Bat  (None, 2, 2, 384)        1536      \n",
            " chNormalization)                                                \n",
            "                                                                 \n",
            " activation_12 (Activation)  (None, 2, 2, 384)         0         \n",
            "                                                                 \n",
            " conv2d_9 (Conv2D)           (None, 2, 2, 256)         884992    \n",
            "                                                                 \n",
            " batch_normalization_13 (Bat  (None, 2, 2, 256)        1024      \n",
            " chNormalization)                                                \n",
            "                                                                 \n",
            " activation_13 (Activation)  (None, 2, 2, 256)         0         \n",
            "                                                                 \n",
            " max_pooling2d_5 (MaxPooling  (None, 1, 1, 256)        0         \n",
            " 2D)                                                             \n",
            "                                                                 \n",
            " flatten_1 (Flatten)         (None, 256)               0         \n",
            "                                                                 \n",
            " dense_4 (Dense)             (None, 4096)              1052672   \n",
            "                                                                 \n",
            " batch_normalization_14 (Bat  (None, 4096)             16384     \n",
            " chNormalization)                                                \n",
            "                                                                 \n",
            " activation_14 (Activation)  (None, 4096)              0         \n",
            "                                                                 \n",
            " dropout_3 (Dropout)         (None, 4096)              0         \n",
            "                                                                 \n",
            " dense_5 (Dense)             (None, 4096)              16781312  \n",
            "                                                                 \n",
            " batch_normalization_15 (Bat  (None, 4096)             16384     \n",
            " chNormalization)                                                \n",
            "                                                                 \n",
            " activation_15 (Activation)  (None, 4096)              0         \n",
            "                                                                 \n",
            " dropout_4 (Dropout)         (None, 4096)              0         \n",
            "                                                                 \n",
            " dense_6 (Dense)             (None, 1000)              4097000   \n",
            "                                                                 \n",
            " batch_normalization_16 (Bat  (None, 1000)             4000      \n",
            " chNormalization)                                                \n",
            "                                                                 \n",
            " activation_16 (Activation)  (None, 1000)              0         \n",
            "                                                                 \n",
            " dropout_5 (Dropout)         (None, 1000)              0         \n",
            "                                                                 \n",
            " dense_7 (Dense)             (None, 2)                 2002      \n",
            "                                                                 \n",
            " batch_normalization_17 (Bat  (None, 2)                8         \n",
            " chNormalization)                                                \n",
            "                                                                 \n",
            " activation_17 (Activation)  (None, 2)                 0         \n",
            "                                                                 \n",
            "=================================================================\n",
            "Total params: 25,722,466\n",
            "Trainable params: 25,701,326\n",
            "Non-trainable params: 21,140\n",
            "_________________________________________________________________\n"
          ]
        }
      ]
    },
    {
      "cell_type": "code",
      "metadata": {
        "id": "D9DTyjRQQUFp"
      },
      "source": [
        "AlexNet.compile(loss = keras.losses.categorical_crossentropy,\n",
        "                optimizer= 'adam', metrics=['accuracy'])"
      ],
      "execution_count": 53,
      "outputs": []
    },
    {
      "cell_type": "code",
      "metadata": {
        "id": "LYNmzzzIQW_d"
      },
      "source": [
        "from keras.callbacks import ReduceLROnPlateau\n",
        "lrr=ReduceLROnPlateau(monitor='val_accuracy', factor=.01, patience=3, min_lr=1e-5)\n",
        "#Defining the parameters\n",
        "batch_size=64\n",
        "epochs=10\n",
        "learn_rate=.001"
      ],
      "execution_count": 54,
      "outputs": []
    },
    {
      "cell_type": "code",
      "metadata": {
        "colab": {
          "base_uri": "https://localhost:8080/"
        },
        "id": "P90vTf9sQaOH",
        "outputId": "c3464edb-efaa-4808-95b5-5c3a2df30989"
      },
      "source": [
        "AlexNet.fit_generator(\n",
        "    train_generator.flow(x_train, y_train, batch_size=batch_size),\n",
        "     epochs = epochs, steps_per_epoch = x_train.shape[0]//batch_size,\n",
        "      validation_data = (x_val, y_val),\n",
        "       validation_steps = 10, callbacks = [lrr], verbose=1)"
      ],
      "execution_count": 55,
      "outputs": [
        {
          "output_type": "stream",
          "name": "stderr",
          "text": [
            "/usr/local/lib/python3.7/dist-packages/ipykernel_launcher.py:5: UserWarning: `Model.fit_generator` is deprecated and will be removed in a future version. Please use `Model.fit`, which supports generators.\n",
            "  \"\"\"\n"
          ]
        },
        {
          "output_type": "stream",
          "name": "stdout",
          "text": [
            "Epoch 1/10\n",
            "58/58 [==============================] - 66s 1s/step - loss: 0.1406 - accuracy: 0.9771 - val_loss: 1.0845 - val_accuracy: 0.7540 - lr: 0.0010\n",
            "Epoch 2/10\n",
            "58/58 [==============================] - 63s 1s/step - loss: 0.1212 - accuracy: 0.9814 - val_loss: 0.2781 - val_accuracy: 0.8780 - lr: 0.0010\n",
            "Epoch 3/10\n",
            "58/58 [==============================] - 63s 1s/step - loss: 0.0923 - accuracy: 0.9957 - val_loss: 0.4718 - val_accuracy: 0.8144 - lr: 0.0010\n",
            "Epoch 4/10\n",
            "58/58 [==============================] - 63s 1s/step - loss: 0.0799 - accuracy: 0.9987 - val_loss: 0.1311 - val_accuracy: 0.9756 - lr: 0.0010\n",
            "Epoch 5/10\n",
            "58/58 [==============================] - 63s 1s/step - loss: 0.0741 - accuracy: 0.9978 - val_loss: 0.2191 - val_accuracy: 0.9639 - lr: 0.0010\n",
            "Epoch 6/10\n",
            "58/58 [==============================] - 64s 1s/step - loss: 0.0668 - accuracy: 0.9984 - val_loss: 0.1183 - val_accuracy: 0.9650 - lr: 0.0010\n",
            "Epoch 7/10\n",
            "58/58 [==============================] - 63s 1s/step - loss: 0.0608 - accuracy: 0.9987 - val_loss: 0.0791 - val_accuracy: 0.9873 - lr: 0.0010\n",
            "Epoch 8/10\n",
            "58/58 [==============================] - 63s 1s/step - loss: 0.0542 - accuracy: 0.9997 - val_loss: 0.0754 - val_accuracy: 0.9894 - lr: 0.0010\n",
            "Epoch 9/10\n",
            "58/58 [==============================] - 63s 1s/step - loss: 0.0495 - accuracy: 0.9992 - val_loss: 0.0785 - val_accuracy: 0.9883 - lr: 0.0010\n",
            "Epoch 10/10\n",
            "58/58 [==============================] - 63s 1s/step - loss: 0.0467 - accuracy: 0.9995 - val_loss: 0.0450 - val_accuracy: 1.0000 - lr: 0.0010\n"
          ]
        },
        {
          "output_type": "execute_result",
          "data": {
            "text/plain": [
              "<keras.callbacks.History at 0x7f549ee09c10>"
            ]
          },
          "metadata": {},
          "execution_count": 55
        }
      ]
    },
    {
      "cell_type": "code",
      "metadata": {
        "colab": {
          "base_uri": "https://localhost:8080/",
          "height": 282
        },
        "id": "De7v77ehV_k_",
        "outputId": "efe81bbe-9337-435a-b4b2-ab62d27dcb4d"
      },
      "source": [
        "import matplotlib.pyplot as plt\n",
        "#Plotting the training and validation loss\n",
        "\n",
        "f,ax=plt.subplots(2,1) #Creates 2 subplots under 1 column\n",
        "\n",
        "#Assigning the first subplot to graph training loss and validation loss\n",
        "ax[0].plot(AlexNet.history.history['loss'],color='b',label='Training Loss')\n",
        "ax[0].plot(AlexNet.history.history['val_loss'],color='r',label='Validation Loss')\n",
        "\n",
        "#Plotting the training accuracy and validation accuracy\n",
        "ax[1].plot(AlexNet.history.history['accuracy'],color='b',label='Training  Accuracy')\n",
        "ax[1].plot(AlexNet.history.history['val_accuracy'],color='r',label='Validation Accuracy')\n",
        "\n",
        "plt.legend()"
      ],
      "execution_count": 56,
      "outputs": [
        {
          "output_type": "execute_result",
          "data": {
            "text/plain": [
              "<matplotlib.legend.Legend at 0x7f549edfcc90>"
            ]
          },
          "metadata": {},
          "execution_count": 56
        },
        {
          "output_type": "display_data",
          "data": {
            "image/png": "[encoded data removed]",
            "text/plain": [
              "<Figure size 432x288 with 2 Axes>"
            ]
          },
          "metadata": {
            "needs_background": "light"
          }
        }
      ]
    }
  ]
}