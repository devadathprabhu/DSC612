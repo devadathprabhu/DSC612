{
  "nbformat": 4,
  "nbformat_minor": 0,
  "metadata": {
    "colab": {
      "name": "L2Q2.ipynb",
      "provenance": [],
      "authorship_tag": "ABX9TyMj0gcXwDz5Fz1K0ExoN3gV",
      "include_colab_link": true
    },
    "kernelspec": {
      "name": "python3",
      "display_name": "Python 3"
    },
    "language_info": {
      "name": "python"
    }
  },
  "cells": [
    {
      "cell_type": "markdown",
      "metadata": {
        "id": "view-in-github",
        "colab_type": "text"
      },
      "source": [
        "<a href=\"https://colab.research.google.com/github/devadathprabhu/DSC612/blob/main/L2Q2.ipynb\" target=\"_parent\"><img src=\"https://colab.research.google.com/assets/colab-badge.svg\" alt=\"Open In Colab\"/></a>"
      ]
    },
    {
      "cell_type": "code",
      "metadata": {
        "colab": {
          "base_uri": "https://localhost:8080/",
          "height": 0
        },
        "id": "K6zmVtitU_u6",
        "outputId": "701999cc-7e35-4ee8-ccab-30913218c30d"
      },
      "source": [
        "# Compute the MAE, RMSE, MSE for the given data.\n",
        "# Actual = 34,37,44,47,48,48,46,43,32,27,26,24\n",
        "# Predicte = 37,40,46,44,46,50,45,44,34,30,22,23\n",
        "\n",
        "import numpy as np\n",
        "\n",
        "actual = [34,37,44,47,48,48,46,43,32,27,26,24]\n",
        "predicate = [37,40,46,44,46,50,45,44,34,30,22,23]\n",
        "\n",
        "# MAE\n",
        "MAE = np.abs(np.subtract(actual,predicate)).mean()\n",
        "print(\"Mean Absolute Error (MAE): \", MAE)\n",
        "\n",
        "# RMSE\n",
        "RMSE = np.sqrt(np.square(np.subtract(actual, predicate))).mean()\n",
        "print(\"Root Mean Squared Error (RMSE): \", RMSE)\n",
        "\n",
        "# MSE\n",
        "MSE = np.square(np.subtract(actual, predicate)).mean()\n",
        "print(\"Mean Square Error (MSE): \", MSE)"
      ],
      "execution_count": 6,
      "outputs": [
        {
          "output_type": "stream",
          "text": [
            "Mean Absolute Error (MAE):  2.25\n",
            "Root Mean Squared Error (RMSE):  2.25\n",
            "Mean Square Error (MSE):  5.916666666666667\n"
          ],
          "name": "stdout"
        }
      ]
    }
  ]
}