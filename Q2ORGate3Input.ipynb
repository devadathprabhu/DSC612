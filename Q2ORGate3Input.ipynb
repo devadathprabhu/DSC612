{
  "nbformat": 4,
  "nbformat_minor": 0,
  "metadata": {
    "colab": {
      "name": "Q4ORGate3Input.ipynb",
      "provenance": [],
      "authorship_tag": "ABX9TyP32SdzIIoftAUQ3YE7m3Ui",
      "include_colab_link": true
    },
    "kernelspec": {
      "name": "python3",
      "display_name": "Python 3"
    },
    "language_info": {
      "name": "python"
    }
  },
  "cells": [
    {
      "cell_type": "markdown",
      "metadata": {
        "id": "view-in-github",
        "colab_type": "text"
      },
      "source": [
        "<a href=\"https://colab.research.google.com/github/devadathprabhu/DSC612/blob/main/Q4ORGate3Input.ipynb\" target=\"_parent\"><img src=\"https://colab.research.google.com/assets/colab-badge.svg\" alt=\"Open In Colab\"/></a>"
      ]
    },
    {
      "cell_type": "code",
      "metadata": {
        "colab": {
          "base_uri": "https://localhost:8080/"
        },
        "id": "FWaeLTvRmh4m",
        "outputId": "d2b9e5ce-9e9a-47e1-8ce2-68e46e1fbd35"
      },
      "source": [
        "import numpy as np\n",
        "  \n",
        "# sigmoid activation function\n",
        "def unitStep(v):\n",
        "  if v >= 0:\n",
        "      return 1\n",
        "  else:\n",
        "      return 0\n",
        "  \n",
        "# designing perceptron model\n",
        "def perceptronModel(x, w, b):\n",
        "   v = np.dot(w, x) + b\n",
        "   y = unitStep(v)\n",
        "   return y\n",
        "  \n",
        "# computation model\n",
        "def compute(data, logicGate, weights, bias):\n",
        "   weights = np.array(weights)\n",
        "   output = np.array([ perceptronModel(weights,  \n",
        "            datum, bias) for datum in data ])\n",
        "   return output\n",
        "\n",
        "def OR_logicFunction(x):\n",
        "  w = np.array([1,1,1])\n",
        "  b = -0.5\n",
        "  return perceptronModel(x, w, b)\n",
        "\n",
        "test1 = np.array([0,0,0])\n",
        "test2 = np.array([0,0,1])\n",
        "test3 = np.array([0,1,0])\n",
        "test4 = np.array([0,1,1])\n",
        "test5 = np.array([1,0,0])\n",
        "test6 = np.array([1,0,1])\n",
        "test7 = np.array([1,1,0])\n",
        "test8 = np.array([1,1,1])\n",
        "\n",
        "print(\"AND({}, {}, {}) = {}\".format(0, 0, 0, OR_logicFunction(test1)))\n",
        "print(\"AND({}, {}, {}) = {}\".format(0, 0, 1, OR_logicFunction(test2)))\n",
        "print(\"AND({}, {}, {}) = {}\".format(0, 1, 0, OR_logicFunction(test3)))\n",
        "print(\"AND({}, {}, {}) = {}\".format(0, 1, 1, OR_logicFunction(test4)))\n",
        "print(\"AND({}, {}, {}) = {}\".format(1, 0, 0, OR_logicFunction(test5)))\n",
        "print(\"AND({}, {}, {}) = {}\".format(1, 0, 1, OR_logicFunction(test6)))\n",
        "print(\"AND({}, {}, {}) = {}\".format(1, 1, 0, OR_logicFunction(test7)))\n",
        "print(\"AND({}, {}, {}) = {}\".format(1, 1, 1, OR_logicFunction(test8)))"
      ],
      "execution_count": 9,
      "outputs": [
        {
          "output_type": "stream",
          "text": [
            "AND(0, 0, 0) = 0\n",
            "AND(0, 0, 1) = 1\n",
            "AND(0, 1, 0) = 1\n",
            "AND(0, 1, 1) = 1\n",
            "AND(1, 0, 0) = 1\n",
            "AND(1, 0, 1) = 1\n",
            "AND(1, 1, 0) = 1\n",
            "AND(1, 1, 1) = 1\n"
          ],
          "name": "stdout"
        }
      ]
    }
  ]
}
