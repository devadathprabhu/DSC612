{
  "nbformat": 4,
  "nbformat_minor": 0,
  "metadata": {
    "colab": {
      "name": "Q1AndGate2Input.ipynb",
      "provenance": [],
      "authorship_tag": "ABX9TyMkfvVMA4wWU2wNzQ9VSDyz",
      "include_colab_link": true
    },
    "kernelspec": {
      "name": "python3",
      "display_name": "Python 3"
    },
    "language_info": {
      "name": "python"
    }
  },
  "cells": [
    {
      "cell_type": "markdown",
      "metadata": {
        "id": "view-in-github",
        "colab_type": "text"
      },
      "source": [
        "<a href=\"https://colab.research.google.com/github/devadathprabhu/DSC612/blob/main/Q1AndGate2Input.ipynb\" target=\"_parent\"><img src=\"https://colab.research.google.com/assets/colab-badge.svg\" alt=\"Open In Colab\"/></a>"
      ]
    },
    {
      "cell_type": "code",
      "metadata": {
        "colab": {
          "base_uri": "https://localhost:8080/"
        },
        "id": "Wul0NnI4Y3x8",
        "outputId": "77c5acf6-baa8-4e2d-b83f-a678c07155d6"
      },
      "source": [
        "# importing Python library\n",
        "import numpy as np\n",
        "  \n",
        "# define Unit Step Function\n",
        "def unitStep(v):\n",
        "    if v >= 0:\n",
        "        return 1\n",
        "    else:\n",
        "        return 0\n",
        "  \n",
        "# design Perceptron Model\n",
        "def perceptronModel(x, w, b):\n",
        "    v = np.dot(w, x) + b\n",
        "    y = unitStep(v)\n",
        "    return y\n",
        "  \n",
        "# AND Logic Function\n",
        "# w1 = 1, w2 = 1, b = -1.5\n",
        "def AND_logicFunction(x):\n",
        "    w = np.array([1, 1])\n",
        "    b = -1.5\n",
        "    return perceptronModel(x, w, b)\n",
        "  \n",
        "# testing the Perceptron Model\n",
        "test1 = np.array([0, 1])\n",
        "test2 = np.array([1, 1])\n",
        "test3 = np.array([0, 0])\n",
        "test4 = np.array([1, 0])\n",
        "  \n",
        "print(\"AND({}, {}) = {}\".format(0, 1, AND_logicFunction(test1)))\n",
        "print(\"AND({}, {}) = {}\".format(1, 1, AND_logicFunction(test2)))\n",
        "print(\"AND({}, {}) = {}\".format(0, 0, AND_logicFunction(test3)))\n",
        "print(\"AND({}, {}) = {}\".format(1, 0, AND_logicFunction(test4)))"
      ],
      "execution_count": 1,
      "outputs": [
        {
          "output_type": "stream",
          "text": [
            "AND(0, 1) = 0\n",
            "AND(1, 1) = 1\n",
            "AND(0, 0) = 0\n",
            "AND(1, 0) = 0\n"
          ],
          "name": "stdout"
        }
      ]
    }
  ]
}